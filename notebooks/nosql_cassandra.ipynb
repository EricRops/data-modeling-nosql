{
 "cells": [
  {
   "cell_type": "markdown",
   "metadata": {},
   "source": [
    "# Part I. ETL Pipeline for Pre-Processing the Files"
   ]
  },
  {
   "cell_type": "markdown",
   "metadata": {},
   "source": [
    "## The following code combines all the event_data into a single csv file"
   ]
  },
  {
   "cell_type": "markdown",
   "metadata": {},
   "source": [
    "#### Import Python packages "
   ]
  },
  {
   "cell_type": "code",
   "execution_count": 129,
   "metadata": {},
   "outputs": [],
   "source": [
    "# Import Python packages \n",
    "import pandas as pd\n",
    "import cassandra\n",
    "import re\n",
    "import os\n",
    "import glob\n",
    "import numpy as np\n",
    "import json\n",
    "import csv\n",
    "import timeit\n",
    "import shutil"
   ]
  },
  {
   "cell_type": "markdown",
   "metadata": {},
   "source": [
    "#### Creating list of filepaths to process original event csv data files"
   ]
  },
  {
   "cell_type": "code",
   "execution_count": 132,
   "metadata": {},
   "outputs": [
    {
     "name": "stdout",
     "output_type": "stream",
     "text": [
      "30 csv files processed from C:\\Users\\ericr\\Google Drive\\Online Courses\\Udacity\\Data Engineering\\Part 1 - Data Modeling\\data-modeling-nosql/event_data\n"
     ]
    }
   ],
   "source": [
    "# Define function to create list of all csv files in a specified path\n",
    "def get_files(filepath):\n",
    "    file_path_list = []\n",
    "    for root, dirs, files in os.walk(filepath):\n",
    "        files = glob.glob(os.path.join(root,'*.csv'))\n",
    "        for f in files :\n",
    "            file_path_list.append(os.path.abspath(f))\n",
    "    \n",
    "    return file_path_list\n",
    "\n",
    "# Go to main directory\n",
    "os.chdir(\"..\")\n",
    "\n",
    "# Get your current folder and subfolder event data\n",
    "filepath = os.getcwd() + '/event_data'\n",
    "\n",
    "# remove unwanted csv file in cache folder\n",
    "if os.path.exists(filepath + '/.ipynb_checkpoints'):\n",
    "    shutil.rmtree(filepath + '/.ipynb_checkpoints') \n",
    "\n",
    "# Get get of all files\n",
    "file_path_list = get_files(filepath)    \n",
    "\n",
    "print('{} csv files processed from {}'.format(len(file_path_list), filepath))\n",
    "#print(file_path_list)\n",
    "# Go back to notebooks directory\n",
    "os.chdir(\"notebooks\")"
   ]
  },
  {
   "cell_type": "markdown",
   "metadata": {},
   "source": [
    "#### Processing the files to create the data file csv that will be used for Apache Casssandra tables"
   ]
  },
  {
   "cell_type": "code",
   "execution_count": 38,
   "metadata": {},
   "outputs": [],
   "source": [
    "# initiating an empty list of rows that will be generated from each file\n",
    "full_data_rows_list = [] \n",
    "    \n",
    "# for every filepath in the file path list \n",
    "for f in file_path_list:\n",
    "\n",
    "# reading csv file \n",
    "    with open(f, 'r', encoding = 'utf8', newline='') as csvfile: \n",
    "        # creating a csv reader object \n",
    "        csvreader = csv.reader(csvfile) \n",
    "        next(csvreader)\n",
    "        \n",
    " # extracting each data row one by one and append it        \n",
    "        for line in csvreader:\n",
    "            #print(line)\n",
    "            full_data_rows_list.append(line) \n",
    "\n",
    "# creating a smaller event data csv file called event_datafile_full csv that will be used to insert data into the\n",
    "# Apache Cassandra tables\n",
    "csv.register_dialect('myDialect', quoting=csv.QUOTE_ALL, skipinitialspace=True)\n",
    "\n",
    "with open('../event_datafile_new.csv', 'w', encoding = 'utf8', newline='') as f:\n",
    "    writer = csv.writer(f, dialect='myDialect')\n",
    "    writer.writerow(['artist','firstName','gender','itemInSession','lastName','length',\\\n",
    "                'level','location','sessionId','song','userId'])\n",
    "    for row in full_data_rows_list:\n",
    "        if (row[0] == ''): # skip rows with no songplay info\n",
    "            continue\n",
    "        writer.writerow((row[0], row[2], row[3], row[4], row[5], row[6], row[7], row[8], row[12], row[13], row[16]))\n",
    "\n",
    "# Close the file object         \n",
    "f.close()"
   ]
  },
  {
   "cell_type": "markdown",
   "metadata": {},
   "source": [
    "#### Sort the CSV file by sessionId (9th col) and itemInSession (4th col) for easier exploration of the data"
   ]
  },
  {
   "cell_type": "code",
   "execution_count": 39,
   "metadata": {},
   "outputs": [],
   "source": [
    "csv.register_dialect('myDialect', quoting=csv.QUOTE_ALL, skipinitialspace=True)\n",
    "\n",
    "with open('../event_datafile_new.csv', 'r', encoding='utf8', newline='') as f, \\\n",
    "open('../event_datafile_sorted.csv', 'w', encoding='utf8', newline='') as final:\n",
    "    writer = csv.writer(final, delimiter=',', dialect='myDialect')\n",
    "    writer.writerow(['artist','firstName','gender','itemInSession','lastName','length',\\\n",
    "                'level','location','sessionId','song','userId'])\n",
    "    reader = csv.reader(f, delimiter=',')\n",
    "    next(reader)  # skip header\n",
    "    sorted2 = sorted(reader, key=lambda row: (int(row[8]), int(row[3])))        \n",
    "    for row in sorted2:\n",
    "        writer.writerow(row)\n",
    "        \n",
    "# Close the file objects         \n",
    "f.close()\n",
    "final.close()"
   ]
  },
  {
   "cell_type": "code",
   "execution_count": 67,
   "metadata": {},
   "outputs": [
    {
     "name": "stdout",
     "output_type": "stream",
     "text": [
      "6821 rows in the combined csv file including header\n"
     ]
    }
   ],
   "source": [
    "# check the number of rows in your csv file\n",
    "with open('../event_datafile_sorted.csv', 'r', encoding = 'utf8') as f:\n",
    "    print('{} rows in the combined csv file including header'.format(sum(1 for line in f)))\n",
    "         \n",
    "f.close()"
   ]
  },
  {
   "cell_type": "markdown",
   "metadata": {},
   "source": [
    "# Part II. Complete the Apache Cassandra coding portion of your project. \n",
    "\n",
    "## Now you are ready to work with the CSV file titled <font color=red>event_datafile_new.csv</font>, located within the Workspace directory.  The event_datafile_new.csv contains the following columns: \n",
    "- artist \n",
    "- firstName of user\n",
    "- gender of user\n",
    "- item number in session\n",
    "- last name of user\n",
    "- length of the song\n",
    "- level (paid or free song)\n",
    "- location of the user\n",
    "- sessionId\n",
    "- song title\n",
    "- userId\n",
    "\n",
    "The image below is a screenshot of what the denormalized data looks like in the <font color=red>**event_datafile_new.csv**</font> after the code above is run:<br>\n",
    "\n",
    "<img src=\"../images/image_event_datafile_new.jpg\">"
   ]
  },
  {
   "cell_type": "markdown",
   "metadata": {},
   "source": [
    "#### Create a Cluster (Cassandra database connection)"
   ]
  },
  {
   "cell_type": "code",
   "execution_count": 77,
   "metadata": {},
   "outputs": [],
   "source": [
    "# Make a connection to a Cassandra instance on your local machine \n",
    "from cassandra.cluster import Cluster\n",
    "from cassandra.auth import PlainTextAuthProvider\n",
    "\n",
    "# 127.0.0.1 is the local cluster seen in the cqlsh shell window at startup\n",
    "cluster = Cluster(contact_points=['127.0.0.1'], \\\n",
    "                  auth_provider = PlainTextAuthProvider(username='cassandra', password='cassandra')) \n",
    "\n",
    "# To establish connection and begin executing queries, need a session\n",
    "session = cluster.connect()"
   ]
  },
  {
   "cell_type": "markdown",
   "metadata": {},
   "source": [
    "#### Create Keyspace"
   ]
  },
  {
   "cell_type": "code",
   "execution_count": 78,
   "metadata": {},
   "outputs": [],
   "source": [
    "try:\n",
    "    session.execute(\"\"\"\n",
    "    CREATE KEYSPACE IF NOT EXISTS udacity \n",
    "    WITH REPLICATION = \n",
    "    { 'class' : 'SimpleStrategy', 'replication_factor' : 1 }\"\"\")\n",
    "except Exception as e:\n",
    "    print(e)"
   ]
  },
  {
   "cell_type": "markdown",
   "metadata": {},
   "source": [
    "#### Set Keyspace  \n",
    "#### NOTE: Used the hints in this [Github post](https://gist.github.com/gioper86/b08b72d77c4e0aefa0137fc3655488dd) to modify the session parameters to allow a Pandas dataframe to be returned from a Cassandra query"
   ]
  },
  {
   "cell_type": "code",
   "execution_count": 79,
   "metadata": {},
   "outputs": [],
   "source": [
    "# Function to allow a pandas DF be returned from a cassandra query\n",
    "def pandas_factory(colnames, rows):\n",
    "    return pd.DataFrame(rows, columns=colnames)\n",
    "\n",
    "try:\n",
    "    session.set_keyspace('udacity')\n",
    "    session.row_factory = pandas_factory\n",
    "    #session.default_fetch_size = 10000000 #needed for large queries, else driver will do pagination. Default is 50000.\n",
    "except Exception as e:\n",
    "    print(e)"
   ]
  },
  {
   "cell_type": "markdown",
   "metadata": {},
   "source": [
    "## Create tables modeled  to run the following 3 queries"
   ]
  },
  {
   "cell_type": "code",
   "execution_count": 127,
   "metadata": {},
   "outputs": [
    {
     "data": {
      "text/plain": [
       "<cassandra.cluster.ResultSet at 0x17efc5a9488>"
      ]
     },
     "execution_count": 127,
     "metadata": {},
     "output_type": "execute_result"
    }
   ],
   "source": [
    "# Drop all tables first\n",
    "session.execute(\"DROP TABLE IF EXISTS music_info_by_session\")\n",
    "session.execute(\"DROP TABLE IF EXISTS event_info_by_session\")\n",
    "session.execute(\"DROP TABLE IF EXISTS user_info_by_song\")\n",
    "\n",
    "# Create table for query 1\n",
    "# PRIMARY KEY:\n",
    "# Partition: sessionId. Clustering columns: itemInSession\n",
    "# REASONING: sessionId and itemInSession should uniquely identify each music event.\n",
    "# It is possible for the user to listen to the same song multiple times in a session.\n",
    "# So to preserve that info, song and artist should NOT be included in the Primary Key.\n",
    "query = \"CREATE TABLE IF NOT EXISTS music_info_by_session \"\n",
    "query = query + \"(session_id int, item_in_session int, artist text, song text, length float, \\\n",
    "                  PRIMARY KEY (session_id, item_in_session))\"\n",
    "session.execute(query)\n",
    "\n",
    "# Create table for query 2\n",
    "# PRIMARY KEY:\n",
    "# Partition: sessionId. Clustering columns: itemInSession\n",
    "# REASONING: sessionId and itemInSession should uniquely identify each music event.\n",
    "# UserId NOT NEEDED in PK because each sessionId is from 1 user\n",
    "# itemInSession as Clustering column to get desired sorting\n",
    "query = \"CREATE TABLE IF NOT EXISTS event_info_by_session \"\n",
    "query = query + \"(session_id int, item_in_session int, artist text, song text, first_name text, last_name text, \\\n",
    "                  user_id int, PRIMARY KEY (session_id, item_in_session))\"\n",
    "session.execute(query)\n",
    "\n",
    "# Create table for query 3\n",
    "# PRIMARY KEY:\n",
    "# Partition: song. Clustering columns: user_id\n",
    "# REASONING: This PK setup will get each unique song-user combo which will answer the question.\n",
    "# NOTE: If a user listened to the same song more than once, the table will only \n",
    "# show info for ONE songplay, but that's okay, as we will still answer the question\n",
    "query = \"CREATE TABLE IF NOT EXISTS user_info_by_song \"\n",
    "query = query + \"(song text, user_id int, first_name text, last_name text, \\\n",
    "                  PRIMARY KEY (song, user_id))\"\n",
    "session.execute(query)"
   ]
  },
  {
   "cell_type": "markdown",
   "metadata": {},
   "source": [
    "## Create queries to ask the following three questions of the data\n",
    "\n",
    "### 1. Give me the artist, song title and song's length in the music app history that was heard during  sessionId = 338, and itemInSession  = 4\n",
    "\n",
    "\n",
    "### 2. Give me only the following: name of artist, song (sorted by itemInSession) and user (first and last name) for userid = 10, sessionid = 182\n",
    "    \n",
    "\n",
    "### 3. Give me every user name (first and last) in my music app history who listened to the song 'All Hands Against His Own'"
   ]
  },
  {
   "cell_type": "markdown",
   "metadata": {},
   "source": [
    "## Query 1 (Table name: <font color=red>music_info_by_session</font>)\n",
    "### Insert data into the 1st table and verify the query works as expected    "
   ]
  },
  {
   "cell_type": "code",
   "execution_count": 128,
   "metadata": {
    "scrolled": false
   },
   "outputs": [
    {
     "name": "stdout",
     "output_type": "stream",
     "text": [
      "Wall time: 33.8 s\n"
     ]
    }
   ],
   "source": [
    "%%time\n",
    "file = '../event_datafile_new.csv'\n",
    "\n",
    "# Open file object\n",
    "with open(file, encoding = 'utf8') as f:\n",
    "    csvreader = csv.reader(f)\n",
    "    next(csvreader) # skip header\n",
    "    for line in csvreader:\n",
    "## Insert statement for 1st table (session_id is 9th column in CSV, so line[8], and so on)\n",
    "        #print(float(line[5]))\n",
    "        query = \"INSERT INTO music_info_by_session (session_id, item_in_session, artist, song, length)\"\n",
    "        query = query + \" VALUES (%s, %s, %s, %s, %s)\"\n",
    "        session.execute(query, (int(line[8]), int(line[3]), line[0], line[9], float(line[5])))\n",
    "\n",
    "# Close the file object         \n",
    "f.close()"
   ]
  },
  {
   "cell_type": "markdown",
   "metadata": {},
   "source": [
    "#### Verify the data has been inserted by printing the first 10 rows and seeing the row count\n",
    "#### WARNING: Using COUNT on a cassandra table would otherwise be dangerous in a multi-node database!!!"
   ]
  },
  {
   "cell_type": "code",
   "execution_count": 97,
   "metadata": {},
   "outputs": [
    {
     "name": "stdout",
     "output_type": "stream",
     "text": [
      "   count\n",
      "0   6820\n"
     ]
    },
    {
     "data": {
      "text/html": [
       "<div>\n",
       "<style scoped>\n",
       "    .dataframe tbody tr th:only-of-type {\n",
       "        vertical-align: middle;\n",
       "    }\n",
       "\n",
       "    .dataframe tbody tr th {\n",
       "        vertical-align: top;\n",
       "    }\n",
       "\n",
       "    .dataframe thead th {\n",
       "        text-align: right;\n",
       "    }\n",
       "</style>\n",
       "<table border=\"1\" class=\"dataframe\">\n",
       "  <thead>\n",
       "    <tr style=\"text-align: right;\">\n",
       "      <th></th>\n",
       "      <th>sessionid</th>\n",
       "      <th>iteminsession</th>\n",
       "      <th>artist</th>\n",
       "      <th>length</th>\n",
       "      <th>song</th>\n",
       "    </tr>\n",
       "  </thead>\n",
       "  <tbody>\n",
       "    <tr>\n",
       "      <th>0</th>\n",
       "      <td>23</td>\n",
       "      <td>0</td>\n",
       "      <td>Regina Spektor</td>\n",
       "      <td>191.085266</td>\n",
       "      <td>The Calculation (Album Version)</td>\n",
       "    </tr>\n",
       "    <tr>\n",
       "      <th>1</th>\n",
       "      <td>23</td>\n",
       "      <td>1</td>\n",
       "      <td>Octopus Project</td>\n",
       "      <td>250.957916</td>\n",
       "      <td>All Of The Champs That Ever Lived</td>\n",
       "    </tr>\n",
       "    <tr>\n",
       "      <th>2</th>\n",
       "      <td>23</td>\n",
       "      <td>2</td>\n",
       "      <td>Tegan And Sara</td>\n",
       "      <td>180.061584</td>\n",
       "      <td>So Jealous</td>\n",
       "    </tr>\n",
       "    <tr>\n",
       "      <th>3</th>\n",
       "      <td>23</td>\n",
       "      <td>3</td>\n",
       "      <td>Dragonette</td>\n",
       "      <td>153.390564</td>\n",
       "      <td>Okay Dolores</td>\n",
       "    </tr>\n",
       "    <tr>\n",
       "      <th>4</th>\n",
       "      <td>23</td>\n",
       "      <td>4</td>\n",
       "      <td>Lil Wayne / Eminem</td>\n",
       "      <td>229.589752</td>\n",
       "      <td>Drop The World</td>\n",
       "    </tr>\n",
       "    <tr>\n",
       "      <th>5</th>\n",
       "      <td>23</td>\n",
       "      <td>5</td>\n",
       "      <td>Soulja Boy Tell'em</td>\n",
       "      <td>201.116287</td>\n",
       "      <td>Let Me Get Em</td>\n",
       "    </tr>\n",
       "    <tr>\n",
       "      <th>6</th>\n",
       "      <td>23</td>\n",
       "      <td>6</td>\n",
       "      <td>Bodo Wartke</td>\n",
       "      <td>645.276306</td>\n",
       "      <td>Liebeslied (Sprachen: Deutsch_ Englisch_ Franz...</td>\n",
       "    </tr>\n",
       "    <tr>\n",
       "      <th>7</th>\n",
       "      <td>23</td>\n",
       "      <td>7</td>\n",
       "      <td>Evanescence</td>\n",
       "      <td>237.113022</td>\n",
       "      <td>Bring Me To Life</td>\n",
       "    </tr>\n",
       "    <tr>\n",
       "      <th>8</th>\n",
       "      <td>23</td>\n",
       "      <td>8</td>\n",
       "      <td>Van Halen</td>\n",
       "      <td>243.173416</td>\n",
       "      <td>Good Enough</td>\n",
       "    </tr>\n",
       "    <tr>\n",
       "      <th>9</th>\n",
       "      <td>23</td>\n",
       "      <td>9</td>\n",
       "      <td>The Academy Is...</td>\n",
       "      <td>209.762817</td>\n",
       "      <td>Paper Chase (Album Version)</td>\n",
       "    </tr>\n",
       "  </tbody>\n",
       "</table>\n",
       "</div>"
      ],
      "text/plain": [
       "   sessionid  iteminsession              artist      length  \\\n",
       "0         23              0      Regina Spektor  191.085266   \n",
       "1         23              1     Octopus Project  250.957916   \n",
       "2         23              2      Tegan And Sara  180.061584   \n",
       "3         23              3          Dragonette  153.390564   \n",
       "4         23              4  Lil Wayne / Eminem  229.589752   \n",
       "5         23              5  Soulja Boy Tell'em  201.116287   \n",
       "6         23              6         Bodo Wartke  645.276306   \n",
       "7         23              7         Evanescence  237.113022   \n",
       "8         23              8           Van Halen  243.173416   \n",
       "9         23              9   The Academy Is...  209.762817   \n",
       "\n",
       "                                                song  \n",
       "0                    The Calculation (Album Version)  \n",
       "1                  All Of The Champs That Ever Lived  \n",
       "2                                         So Jealous  \n",
       "3                                       Okay Dolores  \n",
       "4                                     Drop The World  \n",
       "5                                      Let Me Get Em  \n",
       "6  Liebeslied (Sprachen: Deutsch_ Englisch_ Franz...  \n",
       "7                                   Bring Me To Life  \n",
       "8                                        Good Enough  \n",
       "9                        Paper Chase (Album Version)  "
      ]
     },
     "execution_count": 97,
     "metadata": {},
     "output_type": "execute_result"
    }
   ],
   "source": [
    "query = \"SELECT COUNT(*) FROM music_info_by_session\"\n",
    "rows = session.execute(query)\n",
    "df = rows._current_rows\n",
    "print(df)\n",
    "\n",
    "query = \"SELECT * FROM music_info_by_session LIMIT 10\"\n",
    "rows = session.execute(query)\n",
    "df = rows._current_rows\n",
    "df"
   ]
  },
  {
   "cell_type": "markdown",
   "metadata": {},
   "source": [
    "### Query 1. Give me the artist, song title and song's length in the music app history that was heard during  sessionId = 338, and itemInSession  = 4"
   ]
  },
  {
   "cell_type": "code",
   "execution_count": 98,
   "metadata": {
    "scrolled": true
   },
   "outputs": [
    {
     "data": {
      "text/html": [
       "<div>\n",
       "<style scoped>\n",
       "    .dataframe tbody tr th:only-of-type {\n",
       "        vertical-align: middle;\n",
       "    }\n",
       "\n",
       "    .dataframe tbody tr th {\n",
       "        vertical-align: top;\n",
       "    }\n",
       "\n",
       "    .dataframe thead th {\n",
       "        text-align: right;\n",
       "    }\n",
       "</style>\n",
       "<table border=\"1\" class=\"dataframe\">\n",
       "  <thead>\n",
       "    <tr style=\"text-align: right;\">\n",
       "      <th></th>\n",
       "      <th>sessionid</th>\n",
       "      <th>iteminsession</th>\n",
       "      <th>artist</th>\n",
       "      <th>length</th>\n",
       "      <th>song</th>\n",
       "    </tr>\n",
       "  </thead>\n",
       "  <tbody>\n",
       "    <tr>\n",
       "      <th>0</th>\n",
       "      <td>338</td>\n",
       "      <td>4</td>\n",
       "      <td>Faithless</td>\n",
       "      <td>495.307312</td>\n",
       "      <td>Music Matters (Mark Knight Dub)</td>\n",
       "    </tr>\n",
       "  </tbody>\n",
       "</table>\n",
       "</div>"
      ],
      "text/plain": [
       "   sessionid  iteminsession     artist      length  \\\n",
       "0        338              4  Faithless  495.307312   \n",
       "\n",
       "                              song  \n",
       "0  Music Matters (Mark Knight Dub)  "
      ]
     },
     "execution_count": 98,
     "metadata": {},
     "output_type": "execute_result"
    }
   ],
   "source": [
    "query = \"\"\"SELECT artist, song, length FROM music_info_by_session \\\n",
    "        WHERE session_id = 338 AND item_in_session = 4\"\"\"\n",
    "\n",
    "rows = session.execute(query)\n",
    "df = rows._current_rows\n",
    "df"
   ]
  },
  {
   "cell_type": "markdown",
   "metadata": {},
   "source": [
    "## Query 2 (Table name: <font color=red>event_info_by_session</font>)\n",
    "### Insert data into the 2nd table and verify the query works as expected    "
   ]
  },
  {
   "cell_type": "code",
   "execution_count": 101,
   "metadata": {},
   "outputs": [],
   "source": [
    "file = '../event_datafile_new.csv'\n",
    "\n",
    "# Open file object\n",
    "with open(file, encoding = 'utf8') as f:\n",
    "    csvreader = csv.reader(f)\n",
    "    next(csvreader) # skip header\n",
    "    for line in csvreader:\n",
    "## Insert statement for 1st table (session_id is 9th column in CSV, so line[8], and so on)\n",
    "        query = \"INSERT INTO event_info_by_session (session_id, item_in_session, artist, song, \\\n",
    "                first_name, last_name, user_id)\"\n",
    "        query = query + \" VALUES (%s, %s, %s, %s, %s, %s, %s)\"\n",
    "        session.execute(query, (int(line[8]), int(line[3]), line[0], line[9], line[1], line[4], int(line[10])))\n",
    "     \n",
    "# Close the file object         \n",
    "f.close()             "
   ]
  },
  {
   "cell_type": "markdown",
   "metadata": {},
   "source": [
    "#### Verify the data has been inserted by printing the first 10 rows and seeing the row count\n",
    "#### WARNING: Using COUNT ALL on a cassandra table would otherwise be dangerous in a multi-node database!!!"
   ]
  },
  {
   "cell_type": "code",
   "execution_count": 102,
   "metadata": {},
   "outputs": [
    {
     "name": "stdout",
     "output_type": "stream",
     "text": [
      "   count\n",
      "0   6820\n"
     ]
    },
    {
     "data": {
      "text/html": [
       "<div>\n",
       "<style scoped>\n",
       "    .dataframe tbody tr th:only-of-type {\n",
       "        vertical-align: middle;\n",
       "    }\n",
       "\n",
       "    .dataframe tbody tr th {\n",
       "        vertical-align: top;\n",
       "    }\n",
       "\n",
       "    .dataframe thead th {\n",
       "        text-align: right;\n",
       "    }\n",
       "</style>\n",
       "<table border=\"1\" class=\"dataframe\">\n",
       "  <thead>\n",
       "    <tr style=\"text-align: right;\">\n",
       "      <th></th>\n",
       "      <th>session_id</th>\n",
       "      <th>item_in_session</th>\n",
       "      <th>artist</th>\n",
       "      <th>first_name</th>\n",
       "      <th>last_name</th>\n",
       "      <th>song</th>\n",
       "      <th>user_id</th>\n",
       "    </tr>\n",
       "  </thead>\n",
       "  <tbody>\n",
       "    <tr>\n",
       "      <th>0</th>\n",
       "      <td>23</td>\n",
       "      <td>0</td>\n",
       "      <td>Regina Spektor</td>\n",
       "      <td>Layla</td>\n",
       "      <td>Griffin</td>\n",
       "      <td>The Calculation (Album Version)</td>\n",
       "      <td>24</td>\n",
       "    </tr>\n",
       "    <tr>\n",
       "      <th>1</th>\n",
       "      <td>23</td>\n",
       "      <td>1</td>\n",
       "      <td>Octopus Project</td>\n",
       "      <td>Layla</td>\n",
       "      <td>Griffin</td>\n",
       "      <td>All Of The Champs That Ever Lived</td>\n",
       "      <td>24</td>\n",
       "    </tr>\n",
       "    <tr>\n",
       "      <th>2</th>\n",
       "      <td>23</td>\n",
       "      <td>2</td>\n",
       "      <td>Tegan And Sara</td>\n",
       "      <td>Layla</td>\n",
       "      <td>Griffin</td>\n",
       "      <td>So Jealous</td>\n",
       "      <td>24</td>\n",
       "    </tr>\n",
       "    <tr>\n",
       "      <th>3</th>\n",
       "      <td>23</td>\n",
       "      <td>3</td>\n",
       "      <td>Dragonette</td>\n",
       "      <td>Layla</td>\n",
       "      <td>Griffin</td>\n",
       "      <td>Okay Dolores</td>\n",
       "      <td>24</td>\n",
       "    </tr>\n",
       "    <tr>\n",
       "      <th>4</th>\n",
       "      <td>23</td>\n",
       "      <td>4</td>\n",
       "      <td>Lil Wayne / Eminem</td>\n",
       "      <td>Layla</td>\n",
       "      <td>Griffin</td>\n",
       "      <td>Drop The World</td>\n",
       "      <td>24</td>\n",
       "    </tr>\n",
       "    <tr>\n",
       "      <th>5</th>\n",
       "      <td>23</td>\n",
       "      <td>5</td>\n",
       "      <td>Soulja Boy Tell'em</td>\n",
       "      <td>Layla</td>\n",
       "      <td>Griffin</td>\n",
       "      <td>Let Me Get Em</td>\n",
       "      <td>24</td>\n",
       "    </tr>\n",
       "    <tr>\n",
       "      <th>6</th>\n",
       "      <td>23</td>\n",
       "      <td>6</td>\n",
       "      <td>Bodo Wartke</td>\n",
       "      <td>Layla</td>\n",
       "      <td>Griffin</td>\n",
       "      <td>Liebeslied (Sprachen: Deutsch_ Englisch_ Franz...</td>\n",
       "      <td>24</td>\n",
       "    </tr>\n",
       "    <tr>\n",
       "      <th>7</th>\n",
       "      <td>23</td>\n",
       "      <td>7</td>\n",
       "      <td>Evanescence</td>\n",
       "      <td>Layla</td>\n",
       "      <td>Griffin</td>\n",
       "      <td>Bring Me To Life</td>\n",
       "      <td>24</td>\n",
       "    </tr>\n",
       "    <tr>\n",
       "      <th>8</th>\n",
       "      <td>23</td>\n",
       "      <td>8</td>\n",
       "      <td>Van Halen</td>\n",
       "      <td>Layla</td>\n",
       "      <td>Griffin</td>\n",
       "      <td>Good Enough</td>\n",
       "      <td>24</td>\n",
       "    </tr>\n",
       "    <tr>\n",
       "      <th>9</th>\n",
       "      <td>23</td>\n",
       "      <td>9</td>\n",
       "      <td>The Academy Is...</td>\n",
       "      <td>Layla</td>\n",
       "      <td>Griffin</td>\n",
       "      <td>Paper Chase (Album Version)</td>\n",
       "      <td>24</td>\n",
       "    </tr>\n",
       "  </tbody>\n",
       "</table>\n",
       "</div>"
      ],
      "text/plain": [
       "   session_id  item_in_session              artist first_name last_name  \\\n",
       "0          23                0      Regina Spektor      Layla   Griffin   \n",
       "1          23                1     Octopus Project      Layla   Griffin   \n",
       "2          23                2      Tegan And Sara      Layla   Griffin   \n",
       "3          23                3          Dragonette      Layla   Griffin   \n",
       "4          23                4  Lil Wayne / Eminem      Layla   Griffin   \n",
       "5          23                5  Soulja Boy Tell'em      Layla   Griffin   \n",
       "6          23                6         Bodo Wartke      Layla   Griffin   \n",
       "7          23                7         Evanescence      Layla   Griffin   \n",
       "8          23                8           Van Halen      Layla   Griffin   \n",
       "9          23                9   The Academy Is...      Layla   Griffin   \n",
       "\n",
       "                                                song  user_id  \n",
       "0                    The Calculation (Album Version)       24  \n",
       "1                  All Of The Champs That Ever Lived       24  \n",
       "2                                         So Jealous       24  \n",
       "3                                       Okay Dolores       24  \n",
       "4                                     Drop The World       24  \n",
       "5                                      Let Me Get Em       24  \n",
       "6  Liebeslied (Sprachen: Deutsch_ Englisch_ Franz...       24  \n",
       "7                                   Bring Me To Life       24  \n",
       "8                                        Good Enough       24  \n",
       "9                        Paper Chase (Album Version)       24  "
      ]
     },
     "execution_count": 102,
     "metadata": {},
     "output_type": "execute_result"
    }
   ],
   "source": [
    "query = \"SELECT COUNT(*) FROM event_info_by_session\"\n",
    "rows = session.execute(query)\n",
    "df = rows._current_rows\n",
    "print(df)\n",
    "\n",
    "query = \"SELECT * FROM event_info_by_session LIMIT 10\"\n",
    "rows = session.execute(query)\n",
    "df = rows._current_rows\n",
    "df                  "
   ]
  },
  {
   "cell_type": "markdown",
   "metadata": {},
   "source": [
    "### Query 2. Give me only the following: name of artist, song (sorted by itemInSession) and user (first and last name) for userid = 10, sessionid = 182"
   ]
  },
  {
   "cell_type": "code",
   "execution_count": 107,
   "metadata": {},
   "outputs": [
    {
     "data": {
      "text/html": [
       "<div>\n",
       "<style scoped>\n",
       "    .dataframe tbody tr th:only-of-type {\n",
       "        vertical-align: middle;\n",
       "    }\n",
       "\n",
       "    .dataframe tbody tr th {\n",
       "        vertical-align: top;\n",
       "    }\n",
       "\n",
       "    .dataframe thead th {\n",
       "        text-align: right;\n",
       "    }\n",
       "</style>\n",
       "<table border=\"1\" class=\"dataframe\">\n",
       "  <thead>\n",
       "    <tr style=\"text-align: right;\">\n",
       "      <th></th>\n",
       "      <th>artist</th>\n",
       "      <th>song</th>\n",
       "      <th>first_name</th>\n",
       "      <th>last_name</th>\n",
       "    </tr>\n",
       "  </thead>\n",
       "  <tbody>\n",
       "    <tr>\n",
       "      <th>0</th>\n",
       "      <td>Down To The Bone</td>\n",
       "      <td>Keep On Keepin' On</td>\n",
       "      <td>Sylvie</td>\n",
       "      <td>Cruz</td>\n",
       "    </tr>\n",
       "    <tr>\n",
       "      <th>1</th>\n",
       "      <td>Three Drives</td>\n",
       "      <td>Greece 2000</td>\n",
       "      <td>Sylvie</td>\n",
       "      <td>Cruz</td>\n",
       "    </tr>\n",
       "    <tr>\n",
       "      <th>2</th>\n",
       "      <td>Sebastien Tellier</td>\n",
       "      <td>Kilometer</td>\n",
       "      <td>Sylvie</td>\n",
       "      <td>Cruz</td>\n",
       "    </tr>\n",
       "    <tr>\n",
       "      <th>3</th>\n",
       "      <td>Lonnie Gordon</td>\n",
       "      <td>Catch You Baby (Steve Pitron &amp; Max Sanna Radio...</td>\n",
       "      <td>Sylvie</td>\n",
       "      <td>Cruz</td>\n",
       "    </tr>\n",
       "  </tbody>\n",
       "</table>\n",
       "</div>"
      ],
      "text/plain": [
       "              artist                                               song  \\\n",
       "0   Down To The Bone                                 Keep On Keepin' On   \n",
       "1       Three Drives                                        Greece 2000   \n",
       "2  Sebastien Tellier                                          Kilometer   \n",
       "3      Lonnie Gordon  Catch You Baby (Steve Pitron & Max Sanna Radio...   \n",
       "\n",
       "  first_name last_name  \n",
       "0     Sylvie      Cruz  \n",
       "1     Sylvie      Cruz  \n",
       "2     Sylvie      Cruz  \n",
       "3     Sylvie      Cruz  "
      ]
     },
     "execution_count": 107,
     "metadata": {},
     "output_type": "execute_result"
    }
   ],
   "source": [
    "query = \"\"\"SELECT artist, song, first_name, last_name \\\n",
    "            FROM event_info_by_session \\\n",
    "            WHERE session_id = 182\"\"\"\n",
    "\n",
    "rows = session.execute(query)\n",
    "df = rows._current_rows\n",
    "df"
   ]
  },
  {
   "cell_type": "markdown",
   "metadata": {},
   "source": [
    "## Query 3 (Table name: <font color=red>user_info_by_song</font>)\n",
    "### Insert data into the 3rd table and verify the query works as expected    "
   ]
  },
  {
   "cell_type": "code",
   "execution_count": 109,
   "metadata": {},
   "outputs": [],
   "source": [
    "file = '../event_datafile_new.csv'\n",
    "\n",
    "# Open file object\n",
    "with open(file, encoding = 'utf8') as f:\n",
    "    csvreader = csv.reader(f)\n",
    "    next(csvreader) # skip header\n",
    "    for line in csvreader:\n",
    "## Insert statement for 1st table (session_id is 9th column in CSV, so line[8], and so on)\n",
    "        query = \"INSERT INTO user_info_by_song (song, user_id, first_name, last_name)\"\n",
    "        query = query + \" VALUES (%s, %s, %s, %s)\"\n",
    "        session.execute(query, (line[9], int(line[10]), line[1], line[4]))\n",
    "     \n",
    "# Close the file object         \n",
    "f.close()    "
   ]
  },
  {
   "cell_type": "markdown",
   "metadata": {},
   "source": [
    "#### Verify the data has been inserted by printing the first 10 rows and seeing the row count\n",
    "#### WARNING: Using COUNT ALL on a cassandra table would otherwise be dangerous in a multi-node database!!!"
   ]
  },
  {
   "cell_type": "code",
   "execution_count": 110,
   "metadata": {},
   "outputs": [
    {
     "name": "stdout",
     "output_type": "stream",
     "text": [
      "   count\n",
      "0   6618\n"
     ]
    },
    {
     "data": {
      "text/html": [
       "<div>\n",
       "<style scoped>\n",
       "    .dataframe tbody tr th:only-of-type {\n",
       "        vertical-align: middle;\n",
       "    }\n",
       "\n",
       "    .dataframe tbody tr th {\n",
       "        vertical-align: top;\n",
       "    }\n",
       "\n",
       "    .dataframe thead th {\n",
       "        text-align: right;\n",
       "    }\n",
       "</style>\n",
       "<table border=\"1\" class=\"dataframe\">\n",
       "  <thead>\n",
       "    <tr style=\"text-align: right;\">\n",
       "      <th></th>\n",
       "      <th>song</th>\n",
       "      <th>user_id</th>\n",
       "      <th>first_name</th>\n",
       "      <th>last_name</th>\n",
       "    </tr>\n",
       "  </thead>\n",
       "  <tbody>\n",
       "    <tr>\n",
       "      <th>0</th>\n",
       "      <td>Wonder What's Next</td>\n",
       "      <td>49</td>\n",
       "      <td>Chloe</td>\n",
       "      <td>Cuevas</td>\n",
       "    </tr>\n",
       "    <tr>\n",
       "      <th>1</th>\n",
       "      <td>In The Dragon's Den</td>\n",
       "      <td>49</td>\n",
       "      <td>Chloe</td>\n",
       "      <td>Cuevas</td>\n",
       "    </tr>\n",
       "    <tr>\n",
       "      <th>2</th>\n",
       "      <td>Too Tough (1994 Digital Remaster)</td>\n",
       "      <td>44</td>\n",
       "      <td>Aleena</td>\n",
       "      <td>Kirby</td>\n",
       "    </tr>\n",
       "    <tr>\n",
       "      <th>3</th>\n",
       "      <td>Rio De Janeiro Blue (Album Version)</td>\n",
       "      <td>49</td>\n",
       "      <td>Chloe</td>\n",
       "      <td>Cuevas</td>\n",
       "    </tr>\n",
       "    <tr>\n",
       "      <th>4</th>\n",
       "      <td>My Place</td>\n",
       "      <td>15</td>\n",
       "      <td>Lily</td>\n",
       "      <td>Koch</td>\n",
       "    </tr>\n",
       "    <tr>\n",
       "      <th>5</th>\n",
       "      <td>My Place</td>\n",
       "      <td>73</td>\n",
       "      <td>Jacob</td>\n",
       "      <td>Klein</td>\n",
       "    </tr>\n",
       "    <tr>\n",
       "      <th>6</th>\n",
       "      <td>The Lucky Ones</td>\n",
       "      <td>24</td>\n",
       "      <td>Layla</td>\n",
       "      <td>Griffin</td>\n",
       "    </tr>\n",
       "    <tr>\n",
       "      <th>7</th>\n",
       "      <td>I Want You Now</td>\n",
       "      <td>80</td>\n",
       "      <td>Tegan</td>\n",
       "      <td>Levine</td>\n",
       "    </tr>\n",
       "    <tr>\n",
       "      <th>8</th>\n",
       "      <td>Why Worry</td>\n",
       "      <td>88</td>\n",
       "      <td>Mohammad</td>\n",
       "      <td>Rodriguez</td>\n",
       "    </tr>\n",
       "    <tr>\n",
       "      <th>9</th>\n",
       "      <td>TvÃÂ¡rÃÂ­ v TvÃÂ¡r</td>\n",
       "      <td>97</td>\n",
       "      <td>Kate</td>\n",
       "      <td>Harrell</td>\n",
       "    </tr>\n",
       "  </tbody>\n",
       "</table>\n",
       "</div>"
      ],
      "text/plain": [
       "                                  song  user_id first_name  last_name\n",
       "0                   Wonder What's Next       49      Chloe     Cuevas\n",
       "1                  In The Dragon's Den       49      Chloe     Cuevas\n",
       "2    Too Tough (1994 Digital Remaster)       44     Aleena      Kirby\n",
       "3  Rio De Janeiro Blue (Album Version)       49      Chloe     Cuevas\n",
       "4                             My Place       15       Lily       Koch\n",
       "5                             My Place       73      Jacob      Klein\n",
       "6                       The Lucky Ones       24      Layla    Griffin\n",
       "7                       I Want You Now       80      Tegan     Levine\n",
       "8                            Why Worry       88   Mohammad  Rodriguez\n",
       "9                TvÃÂ¡rÃÂ­ v TvÃÂ¡r       97       Kate    Harrell"
      ]
     },
     "execution_count": 110,
     "metadata": {},
     "output_type": "execute_result"
    }
   ],
   "source": [
    "query = \"SELECT COUNT(*) FROM user_info_by_song\"\n",
    "rows = session.execute(query)\n",
    "df = rows._current_rows\n",
    "print(df)\n",
    "\n",
    "query = \"SELECT * FROM user_info_by_song LIMIT 10\"\n",
    "rows = session.execute(query)\n",
    "df = rows._current_rows\n",
    "df     "
   ]
  },
  {
   "cell_type": "markdown",
   "metadata": {},
   "source": [
    "#### NOTE: there are 202 less rows in this table, because 202 events were repeat songplays by the same user. It is okay these repeat songplays have been removed, because they are not relevant to the question."
   ]
  },
  {
   "cell_type": "markdown",
   "metadata": {},
   "source": [
    "### Query 3. Give me every user name (first and last) in my music app history who listened to the song 'All Hands Against His Own'"
   ]
  },
  {
   "cell_type": "code",
   "execution_count": 113,
   "metadata": {},
   "outputs": [
    {
     "data": {
      "text/html": [
       "<div>\n",
       "<style scoped>\n",
       "    .dataframe tbody tr th:only-of-type {\n",
       "        vertical-align: middle;\n",
       "    }\n",
       "\n",
       "    .dataframe tbody tr th {\n",
       "        vertical-align: top;\n",
       "    }\n",
       "\n",
       "    .dataframe thead th {\n",
       "        text-align: right;\n",
       "    }\n",
       "</style>\n",
       "<table border=\"1\" class=\"dataframe\">\n",
       "  <thead>\n",
       "    <tr style=\"text-align: right;\">\n",
       "      <th></th>\n",
       "      <th>first_name</th>\n",
       "      <th>last_name</th>\n",
       "    </tr>\n",
       "  </thead>\n",
       "  <tbody>\n",
       "    <tr>\n",
       "      <th>0</th>\n",
       "      <td>Jacqueline</td>\n",
       "      <td>Lynch</td>\n",
       "    </tr>\n",
       "    <tr>\n",
       "      <th>1</th>\n",
       "      <td>Tegan</td>\n",
       "      <td>Levine</td>\n",
       "    </tr>\n",
       "    <tr>\n",
       "      <th>2</th>\n",
       "      <td>Sara</td>\n",
       "      <td>Johnson</td>\n",
       "    </tr>\n",
       "  </tbody>\n",
       "</table>\n",
       "</div>"
      ],
      "text/plain": [
       "   first_name last_name\n",
       "0  Jacqueline     Lynch\n",
       "1       Tegan    Levine\n",
       "2        Sara   Johnson"
      ]
     },
     "execution_count": 113,
     "metadata": {},
     "output_type": "execute_result"
    }
   ],
   "source": [
    "query = \"\"\"SELECT first_name, last_name \\\n",
    "            FROM user_info_by_song \\\n",
    "            WHERE song = 'All Hands Against His Own'\"\"\"\n",
    "\n",
    "rows = session.execute(query)\n",
    "df = rows._current_rows\n",
    "df"
   ]
  },
  {
   "cell_type": "markdown",
   "metadata": {},
   "source": [
    "### Drop the tables before closing out the sessions"
   ]
  },
  {
   "cell_type": "code",
   "execution_count": 4,
   "metadata": {},
   "outputs": [],
   "source": [
    "session.execute(\"DROP TABLE IF EXISTS music_info_by_session\")\n",
    "session.execute(\"DROP TABLE IF EXISTS event_info_by_session\")\n",
    "session.execute(\"DROP TABLE IF EXISTS user_info_by_song\")"
   ]
  },
  {
   "cell_type": "markdown",
   "metadata": {},
   "source": [
    "### Close the session and cluster connection¶"
   ]
  },
  {
   "cell_type": "code",
   "execution_count": 133,
   "metadata": {},
   "outputs": [],
   "source": [
    "session.shutdown()\n",
    "cluster.shutdown()"
   ]
  }
 ],
 "metadata": {
  "kernelspec": {
   "display_name": "Python 3",
   "language": "python",
   "name": "python3"
  },
  "language_info": {
   "codemirror_mode": {
    "name": "ipython",
    "version": 3
   },
   "file_extension": ".py",
   "mimetype": "text/x-python",
   "name": "python",
   "nbconvert_exporter": "python",
   "pygments_lexer": "ipython3",
   "version": "3.7.6"
  }
 },
 "nbformat": 4,
 "nbformat_minor": 2
}
